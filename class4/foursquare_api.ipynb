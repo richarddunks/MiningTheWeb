{
 "cells": [
  {
   "cell_type": "markdown",
   "metadata": {},
   "source": [
    "##The Foursquare API exercise using Python"
   ]
  },
  {
   "cell_type": "markdown",
   "metadata": {},
   "source": [
    "###The endpoint for the service"
   ]
  },
  {
   "cell_type": "code",
   "execution_count": 1,
   "metadata": {
    "collapsed": true
   },
   "outputs": [],
   "source": [
    "endpoint = 'https://api.foursquare.com/v2/venues/search?'"
   ]
  },
  {
   "cell_type": "markdown",
   "metadata": {},
   "source": [
    "###The query parameters"
   ]
  },
  {
   "cell_type": "code",
   "execution_count": 25,
   "metadata": {
    "collapsed": true
   },
   "outputs": [],
   "source": [
    "location = '40.7037253789768,-74.0079939173954'\n",
    "radius = '100'\n",
    "limit = '50'"
   ]
  },
  {
   "cell_type": "markdown",
   "metadata": {},
   "source": [
    "###The authentication parameters"
   ]
  },
  {
   "cell_type": "code",
   "execution_count": 26,
   "metadata": {
    "collapsed": true
   },
   "outputs": [],
   "source": [
    "client_id = 'your_client_id'\n",
    "client_secret = 'your_client_secret'\n",
    "v = '20140609'"
   ]
  },
  {
   "cell_type": "markdown",
   "metadata": {},
   "source": [
    "###Combine them together"
   ]
  },
  {
   "cell_type": "code",
   "execution_count": 27,
   "metadata": {
    "collapsed": false
   },
   "outputs": [],
   "source": [
    "call= endpoint + 'll=' + location + '&radius=' + radius + '&limit=' + limit + '&client_id=' + client_id + '&client_secret=' + client_secret + '&v=' + v"
   ]
  },
  {
   "cell_type": "markdown",
   "metadata": {},
   "source": [
    "###print the result to test"
   ]
  },
  {
   "cell_type": "code",
   "execution_count": null,
   "metadata": {
    "collapsed": false
   },
   "outputs": [],
   "source": [
    "print call"
   ]
  },
  {
   "cell_type": "markdown",
   "metadata": {},
   "source": [
    "###The requests package will allow us to access the web and return the result"
   ]
  },
  {
   "cell_type": "code",
   "execution_count": 6,
   "metadata": {
    "collapsed": true
   },
   "outputs": [],
   "source": [
    "import requests"
   ]
  },
  {
   "cell_type": "markdown",
   "metadata": {},
   "source": [
    "###We \"get\" the result from the web and assign it to the variable `r`"
   ]
  },
  {
   "cell_type": "code",
   "execution_count": 7,
   "metadata": {
    "collapsed": true
   },
   "outputs": [],
   "source": [
    "r = requests.get(call)"
   ]
  },
  {
   "cell_type": "markdown",
   "metadata": {},
   "source": [
    "###We then iterate through the result, only outputting the lines that are important"
   ]
  },
  {
   "cell_type": "code",
   "execution_count": 23,
   "metadata": {
    "collapsed": false
   },
   "outputs": [
    {
     "name": "stdout",
     "output_type": "stream",
     "text": [
      " 32 Old Slip 40.703635895 -74.0080153714\n",
      "Convene at 32 Old Slip 40.7036194044 -74.0075161302\n",
      "The Foundation Center 40.7032676458 -74.0090368033\n",
      "The Bloc 40.7036286467 -74.0076194216\n",
      "New York Water Taxi - Pier 11, Slip A 40.7033506 -74.0062665939\n",
      "Shawarma House Indian Grill 40.7102009341 -74.0108730718\n",
      "Bongo Brothers 40.7034599034 -74.007292332\n",
      "Financial Square 40.7038836618 -74.0076481136\n",
      "Korilla BBQ Truck 40.7045045499 -74.0073038088\n",
      "Old Slip Park 40.7040175428 -74.0087717772\n",
      "EmblemHealth 40.7035953686 -74.0088933441\n",
      "AT&T Building 40.70427458 -74.00876136\n",
      "Patty's Taco Truck 40.7039067544 -74.0085375648\n",
      "Elevated Acre 40.703269265 -74.0087127686\n",
      "Arup 40.704078597 -74.0085088729\n",
      "the cementbloc 40.703716606 -74.0077900887\n",
      "Capco 40.7043301829 -74.0082563839\n",
      "77 Water Street 40.7044619675 -74.0082678607\n",
      "Michael Lamonsoff 40.7039030077 -74.008170308\n",
      "Hudson River Trading LLC 40.7035880234 -74.0082506455\n",
      "Group Health 40.7036805153 -74.0082621574\n",
      "Duane Reade 40.7046926123 -74.0077793598\n",
      "MTAB Bus Stop QM7 QM8 QM11 QM25 40.7040040657 -74.0079292954\n",
      "US Census Bureau 40.7038749664 -74.0076997593\n",
      "East River Ferry - Wall St/Pier 11 Terminal 40.7036682315 -74.0065233823\n",
      "Robusta Espresso Bar 40.7043204314 -74.0090425417\n",
      "yoo fit 40.7045459185 -74.0076768057\n",
      "Di So's Italian Food Truck 40.7040212392 -74.0081186625\n",
      "Citi Bike Station 40.7037992 -74.00838676\n",
      "Crystal & Company 40.7036457388 -74.0083768901\n",
      "High Line Health 40.7039 -74.007622\n",
      "Caissa, LLC 40.7035338245 -74.0083252446\n",
      "Goldman Sachs 40.7040452957 -74.0081012249\n",
      "City of New York HHC 40.7036894076 -74.0084973961\n",
      "FXCM Headquarters 40.7033258869 -74.0081186625\n",
      "The Halal Guy 40.7035568782 -74.0075677759\n",
      "Helicopter Flight Services 40.7037072013 -74.0074702229\n",
      "Alex Tailor Shop & Alterations 40.7037483555 -74.0075218686\n",
      "Hot Fresh Donuts 40.7040303013 -74.0077054977\n",
      "Jolly Fat Pig 40.7036669882 -74.0085834719\n",
      "Wall St Hangover 40.703351 -74.007725\n",
      "A Q Supper Club 40.7040059583 -74.0075677759\n",
      "nicks famous taste 40.7039959146 -74.0084170588\n",
      "NYDailyNews 40.7039687423 -74.0084981918\n",
      "55 Water Fitness Center 40.7034693739 -74.0084342739\n",
      "FDNY Engine 4/Ladder 15 40.7035864708 -74.0074574947\n",
      "55 Water Cafeteria 40.7033769365 -74.0093294598\n",
      "55 Water Convenience Store 40.703543819 -74.0074243156\n",
      "Picknik BBQ Cart 40.7038445951 -74.008405582\n",
      "US Census Bureau Downtown Office 40.7086959088 -74.0049567813\n"
     ]
    }
   ],
   "source": [
    "for i in r.json()['response']['venues']:\n",
    "    print i['name'], i['location']['lat'], i['location']['lng']"
   ]
  },
  {
   "cell_type": "markdown",
   "metadata": {},
   "source": [
    "###Let's save this as a CSV now"
   ]
  },
  {
   "cell_type": "markdown",
   "metadata": {},
   "source": [
    "####1. We have to open the file we want to save to and indicate that we're writing to it ('w')"
   ]
  },
  {
   "cell_type": "code",
   "execution_count": 36,
   "metadata": {
    "collapsed": false
   },
   "outputs": [],
   "source": [
    "outputfile = open('foursquare_venues.csv','w')"
   ]
  },
  {
   "cell_type": "markdown",
   "metadata": {},
   "source": [
    "####2. Then we write the header row. NOTE: '\\n' indicates a new line"
   ]
  },
  {
   "cell_type": "code",
   "execution_count": 37,
   "metadata": {
    "collapsed": true
   },
   "outputs": [],
   "source": [
    "outputfile.write('venue,lat,lng\\n')"
   ]
  },
  {
   "cell_type": "markdown",
   "metadata": {},
   "source": [
    "####3. Loop through the response and write out the name, lat, and lon for the venue"
   ]
  },
  {
   "cell_type": "code",
   "execution_count": 40,
   "metadata": {
    "collapsed": false
   },
   "outputs": [],
   "source": [
    "for i in r.json()['response']['venues']:\n",
    "    outputfile.write(i['name'] + ',' + str(i['location']['lat']) + ',' + str(i['location']['lng']) + '\\n')"
   ]
  },
  {
   "cell_type": "markdown",
   "metadata": {},
   "source": [
    "####4. Close the file when you're done so everything is written to the output file"
   ]
  },
  {
   "cell_type": "code",
   "execution_count": 41,
   "metadata": {
    "collapsed": true
   },
   "outputs": [],
   "source": [
    "outputfile.close()"
   ]
  },
  {
   "cell_type": "markdown",
   "metadata": {},
   "source": [
    "###Check and make sure the file is good"
   ]
  }
 ],
 "metadata": {
  "kernelspec": {
   "display_name": "Python 2",
   "language": "python",
   "name": "python2"
  },
  "language_info": {
   "codemirror_mode": {
    "name": "ipython",
    "version": 2
   },
   "file_extension": ".py",
   "mimetype": "text/x-python",
   "name": "python",
   "nbconvert_exporter": "python",
   "pygments_lexer": "ipython2",
   "version": "2.7.11"
  }
 },
 "nbformat": 4,
 "nbformat_minor": 0
}
